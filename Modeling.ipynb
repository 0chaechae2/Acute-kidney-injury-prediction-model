{
 "cells": [
  {
   "cell_type": "code",
   "execution_count": null,
   "metadata": {},
   "outputs": [],
   "source": [
    "# 라이브러리 불러오기\n",
    "import pandas as pd\n",
    "import numpy as np\n",
    "from sklearn.preprocessing import OneHotEncoder, LabelEncoder, MinMaxScaler\n",
    "from sklearn.model_selection import train_test_split\n",
    "from xgboost import XGBClassifier\n",
    "from sklearn.metrics import classification_report, accuracy_score"
   ]
  },
  {
   "cell_type": "code",
   "execution_count": null,
   "metadata": {},
   "outputs": [],
   "source": [
    "data_path = r\"C:\\Users\\yoon0\\OneDrive\\바탕 화면\\mimic\\aki_df.csv\"\n",
    "aki_df = pd.read_csv(data_path)\n",
    "data_path = r\"C:\\Users\\yoon0\\OneDrive\\바탕 화면\\mimic\\non_aki_df.csv\"\n",
    "non_aki_df = pd.read_csv(data_path)"
   ]
  },
  {
   "cell_type": "code",
   "execution_count": null,
   "metadata": {},
   "outputs": [],
   "source": [
    "import pandas as pd\n",
    "\n",
    "df = pd.concat([aki_df, non_aki_df], ignore_index=True)\n",
    "\n",
    "# 이 예제에서는 이미 합쳐진 DataFrame이 `df`라고 가정합니다\n",
    "\n",
    "# Step 2: 결측치가 3개 이상인 행 삭제\n",
    "# 결측치가 3개 미만인 행만 유지\n",
    "df_cleaned = df[df.isnull().sum(axis=1) < 6]\n",
    "\n",
    "# Step 3: 특정 피처(열) 삭제\n",
    "columns_to_drop = [\n",
    "    'GU Irrigant/Urine Volume Out_227489',\n",
    "    'Temperature Celsius_223762',\n",
    "    '220734'\n",
    "]\n",
    "df_cleaned = df_cleaned.drop(columns=columns_to_drop)\n",
    "\n",
    "# Step 4: `subject_id`와 `hadm_id`로 그룹화한 후 각 그룹에서 `AKI_stage`가 2 이상인 첫 번째 행 이후의 행 삭제\n",
    "\n",
    "# `charttime`이 datetime 형식인지 확인\n",
    "df_cleaned['charttime'] = pd.to_datetime(df_cleaned['charttime'])\n",
    "\n",
    "# DataFrame을 `subject_id`, `hadm_id`, `charttime` 기준으로 정렬하여 그룹 내 시간 순서 보장\n",
    "df_cleaned = df_cleaned.sort_values(['subject_id', 'hadm_id', 'charttime'])\n",
    "df_final = df_cleaned\n",
    "\n"
   ]
  },
  {
   "cell_type": "code",
   "execution_count": null,
   "metadata": {},
   "outputs": [],
   "source": [
    "\n",
    "# 2. 결측값 처리\n",
    "# 'gender'를 제외한 모든 수치형 컬럼 식별\n",
    "exclude_cols = ['subject_id', 'hadm_id', 'charttime', 'admission_date', 'gender']\n",
    "numeric_cols = df_final.select_dtypes(include=['int64', 'float64']).columns.tolist()\n",
    "numeric_cols = [col for col in numeric_cols if col not in exclude_cols]\n",
    "\n",
    "# 'gender'를 범주형 변수로 설정\n",
    "categorical_cols = ['gender']\n",
    "\n",
    "# 수치형 변수 결측값 중앙값으로 채우기\n",
    "for col in numeric_cols:\n",
    "    median = df_final[col].median()\n",
    "    df_final[col].fillna(median, inplace=True)\n",
    "\n",
    "# 범주형 변수 결측값 최빈값으로 채우기\n",
    "for col in categorical_cols:\n",
    "    mode = df_final[col].mode()[0]\n",
    "    df_final[col].fillna(mode, inplace=True)"
   ]
  },
  {
   "cell_type": "code",
   "execution_count": null,
   "metadata": {},
   "outputs": [],
   "source": [
    "#원-핫 인코딩 사용 (범주형 변수의 고유값 수가 적을 경우)\n",
    "df_final = pd.get_dummies(df_final, columns=categorical_cols, drop_first=True)\n"
   ]
  },
  {
   "cell_type": "code",
   "execution_count": null,
   "metadata": {},
   "outputs": [],
   "source": [
    "#scaler = MinMaxScaler()\n",
    "#df_final[numeric_cols] = scaler.fit_transform(df_final[numeric_cols])\n"
   ]
  },
  {
   "cell_type": "code",
   "execution_count": null,
   "metadata": {},
   "outputs": [],
   "source": [
    "#df_final.rename(columns={'gender_M': 'gender'}, inplace=True)\n"
   ]
  },
  {
   "cell_type": "code",
   "execution_count": null,
   "metadata": {},
   "outputs": [],
   "source": [
    "# 5. 시간 기반 윈도우 설정 및 레이블링\n",
    "df_final['charttime'] = pd.to_datetime(df_final['charttime'])\n",
    "data = df_final.sort_values(['subject_id', 'hadm_id', 'charttime'])\n",
    "\n",
    "# 윈도우 설정\n",
    "window_size = pd.Timedelta(hours=24)      # 24시간 윈도우\n",
    "step_size = pd.Timedelta(hours=6)        # 6시간 간격 (중첩)\n",
    "future_window = pd.Timedelta(hours=48)    # 48시간 미래 윈도우\n",
    "\n",
    "window_features = []\n",
    "window_labels = []\n",
    "window_groups = []\n",
    "\n",
    "# 그룹 번호 부여\n",
    "group_keys = list(data.groupby(['subject_id', 'hadm_id']).groups.keys())\n",
    "group_numbers = {name: i for i, name in enumerate(group_keys)}\n",
    "\n",
    "# 각 그룹별로 처리\n",
    "for (subject, hadm), group in data.groupby(['subject_id', 'hadm_id']):\n",
    "    group = group.reset_index(drop=True)\n",
    "    start_time = group['charttime'].min()\n",
    "    end_time = group['charttime'].max()\n",
    "    \n",
    "    # 마지막 가능한 윈도우 시작 시간을 계산\n",
    "    last_window_start_time = end_time - future_window - window_size\n",
    "    if last_window_start_time < start_time:\n",
    "        # 윈도우를 설정할 수 없는 경우 (데이터가 부족한 경우)\n",
    "        continue\n",
    "    \n",
    "    current_start = start_time\n",
    "    group_num = group_numbers[(subject, hadm)]\n",
    "    while current_start <= last_window_start_time:\n",
    "        current_end = current_start + window_size\n",
    "        \n",
    "        # 현재 윈도우 내 데이터\n",
    "        window_data = group[(group['charttime'] >= current_start) & (group['charttime'] < current_end)]\n",
    "        \n",
    "        if window_data.empty:\n",
    "            current_start += step_size\n",
    "            continue\n",
    "        \n",
    "        # 윈도우 내 수치형 피처의 평균값 계산 (피처별 평균)\n",
    "        feature_vector = window_data[numeric_cols].mean().tolist()\n",
    "        \n",
    "        # 'gender' 값 추가 (각 그룹 내 고정)\n",
    "        gender_value = group['gender_M'].iloc[0]\n",
    "        feature_vector.append(gender_value)\n",
    "        \n",
    "        # 레이블링: 윈도우 종료 후 48시간 내 AKI_stage >=2 여부\n",
    "        future_start = current_end\n",
    "        future_end = current_end + future_window\n",
    "        future_data = group[(group['charttime'] >= future_start) & (group['charttime'] < future_end)]\n",
    "        label = 1 if (future_data['AKI_stage'] >= 2).any() else 0\n",
    "        \n",
    "        # 저장\n",
    "        window_features.append(feature_vector)\n",
    "        window_labels.append(label)\n",
    "        window_groups.append(group_num)\n",
    "        \n",
    "        # 윈도우 이동\n",
    "        current_start += step_size\n",
    "\n",
    "# 피처 컬럼 이름 설정\n",
    "feature_names = numeric_cols + ['gender']\n",
    "\n",
    "# 데이터프레임 생성\n",
    "X = pd.DataFrame(window_features, columns=feature_names)\n",
    "X['group'] = window_groups\n",
    "y = pd.Series(window_labels, name='aki')\n",
    "\n",
    "# 결측값 확인 및 처리 (만약 평균 내기 때문에 결측값이 있을 수 있음)\n",
    "X.fillna(0, inplace=True)  # 또는 다른 적절한 방법으로 처리\n"
   ]
  },
  {
   "cell_type": "code",
   "execution_count": null,
   "metadata": {},
   "outputs": [],
   "source": [
    "print(\"\\nX 데이터 예시:\")\n",
    "print(X.head())"
   ]
  },
  {
   "cell_type": "code",
   "execution_count": null,
   "metadata": {},
   "outputs": [],
   "source": [
    "print(y.value_counts())\n"
   ]
  },
  {
   "cell_type": "code",
   "execution_count": null,
   "metadata": {},
   "outputs": [],
   "source": [
    "# 결측값 확인 및 처리 (만약 평균 내기 때문에 결측값이 있을 수 있음)\n",
    "X.fillna(0, inplace=True)  # 또는 다른 적절한 방법으로 처리\n",
    "\n",
    "# 6. 데이터 분할 (훈련 세트와 테스트 세트)\n",
    "X_train, X_test, y_train, y_test = train_test_split(\n",
    "    X, y, test_size=0.2, random_state=42, stratify=y\n",
    ")\n",
    "\n",
    "# 7. XGBoost 모델 구축 및 학습\n",
    "model = XGBClassifier(\n",
    "    n_estimators=100,\n",
    "    learning_rate=0.1,\n",
    "    max_depth=5,\n",
    "    random_state=42,\n",
    "    use_label_encoder=False,\n",
    "    eval_metric='logloss'\n",
    ")\n",
    "\n",
    "model.fit(X_train, y_train)\n",
    "\n",
    "# 8. 예측 및 평가\n",
    "y_pred = model.predict(X_test)\n",
    "\n",
    "print(\"정확도 (Accuracy):\", accuracy_score(y_test, y_pred))\n",
    "print(\"분류 보고서 (Classification Report):\")\n",
    "print(classification_report(y_test, y_pred))"
   ]
  },
  {
   "cell_type": "code",
   "execution_count": null,
   "metadata": {},
   "outputs": [],
   "source": []
  },
  {
   "cell_type": "code",
   "execution_count": null,
   "metadata": {},
   "outputs": [],
   "source": []
  },
  {
   "cell_type": "code",
   "execution_count": null,
   "metadata": {},
   "outputs": [],
   "source": []
  },
  {
   "cell_type": "code",
   "execution_count": null,
   "metadata": {},
   "outputs": [],
   "source": []
  }
 ],
 "metadata": {
  "language_info": {
   "name": "python"
  }
 },
 "nbformat": 4,
 "nbformat_minor": 2
}
